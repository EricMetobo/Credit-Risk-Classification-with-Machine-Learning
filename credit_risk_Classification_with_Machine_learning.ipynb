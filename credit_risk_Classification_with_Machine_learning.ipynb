{
 "cells": [
  {
   "cell_type": "markdown",
   "id": "3b0ebac8",
   "metadata": {},
   "source": [
    "   **CREDIT RISK CLASSIFICATION WITH MACHINE LEARNING**\n",
    "\n",
    "\n",
    "![Alt text](Photos\\Credit-Risk.jpg)"
   ]
  },
  {
   "cell_type": "markdown",
   "id": "ea98ca0a",
   "metadata": {},
   "source": [
    "TABLE OF CONTENTS\n",
    "\n",
    "***1.Introduction***\n",
    "Defining the business problem.\n",
    "Stating the goal and importance.\n",
    "\n",
    "***2.Data Loading***\n",
    "Loading the credit risk Modeling dataset using pandas.\n",
    "\n",
    "***3.Exploratory Data Analysis (EDA)***\n",
    "Inspecting data shape, types, missing values.\n",
    "Visualizing distributions, correlations, and relationships.\n",
    "Analyzing the target variable (Credit risk).\n",
    "\n",
    "***4.Data Preprocessing***\n",
    "Handling missing values.\n",
    "Encoding categorical variables.\n",
    "Scaling/normalizing features if needed.\n",
    "Spliting data into train/test sets.\n",
    "\n",
    "***5.Model Building***\n",
    "Training classification models (e.g., Logistic Regression, Decision Tree, Random Forest).\n",
    "Tuning hyperparameters if desired.\n",
    "\n",
    "***6.Model Evaluation***\n",
    "Evaluate using accuracy, precision, recall, F1-score, ROC-AUC, confusion matrix.\n",
    "Compare models.\n",
    "\n",
    "***7.Insights & Recommendations***\n",
    "Interpreting the results.\n",
    "Providing actionable business recommendations.\n",
    "Conclusion\n"
   ]
  },
  {
   "cell_type": "markdown",
   "id": "926f0f31",
   "metadata": {},
   "source": [
    "## 1.INTRODUCTION.\n",
    "### Project Overview\n",
    "Why would credit risk assessment be so necessary to a whole finacial industry. Its worth noting that one of the most critical challenges for financial institutions is knowing who to advance a credit to and what type of credit- simply put, a wrong loan to a wrong person is disasater in waiting. \n",
    "Granting loans to risky applicants can lead losses, strained liquidity, reduced investor confidence and even eventual shut down as defaulted loans dont only hurt profitability but also the going concern of a business.\n",
    "This project is aimed at using historical applicant data i.e Employment length, credit history, loan intent, income et al to predict the likelihood of loan default. By identifying high-risk applicants in advance, lenders can make various informed decisions e.g adjusting interest rates , applying risk mitigation strategies that protect capital while also ensuring credit accessibility. The project can be used also to continually check the outstanding loans' performance and be able to mitigate any impending/imminent default that may have developed while the loan is being serviced."
   ]
  },
  {
   "cell_type": "markdown",
   "id": "5fce2d5a",
   "metadata": {},
   "source": [
    "### Project Statement\n",
    "Loan default can pose a very serious financial risk to lending institutions which ultimately leads to loss of revenue, corrodes liquidity/capital and general reputation. Manual methods of assessing applicant's risk can be biased, time consuming and inconsistent, however by building a machine learning model that leverages historical data to predict creditworthiness by accurately identifying high-risk profils, financial institutions will not only streamline their lending process to minimieze exposure of default but also proactively applying risk management strategies."
   ]
  },
  {
   "cell_type": "markdown",
   "id": "dff6a4bc",
   "metadata": {},
   "source": [
    "### General Objective\n",
    "To develop a data-driven risk prediction model that will be able to classify loan applicant as either low or high risk, using historical applicant information. The aim of the model will help to enhance decision making in loan approvals, monitoring, improve financial stability as well as supporting fair access to credit."
   ]
  },
  {
   "cell_type": "markdown",
   "id": "1c1217e1",
   "metadata": {},
   "source": [
    "### Stakeholders\n",
    "-Commercial Banks,Saccos and Microfinance institutions \n",
    "\n",
    "-Loan officers and Underwriter \n",
    "\n",
    "-Risk and Compliance \n",
    "\n",
    "-Credit bureau Analysts \n"
   ]
  },
  {
   "cell_type": "markdown",
   "id": "d5aa8d6d",
   "metadata": {},
   "source": [
    "## 2. DATA UNDERSTANDING AND LOADING\n",
    "The dataset in use was obtained from [kaggle](https://www.kaggle.com/datasets/laotse/credit-risk-dataset) and contains credit applicants' information sourced from a financial institution's loan book. Every record represents an individual who applied for a loan, alongside associated demographice, financial and credit history\n",
    "\n",
    "The key feature decriptions:\n",
    "- **Person_age**: The age of an individual applying for the loan.\n",
    "- **Person_income**: Annual income of an individual.\n",
    "- **Person_home_ownership**: The housing status of applicant i.e own, rent or mortgage.\n",
    "- **Person_emp_length**: Employment period in years.\n",
    "- **Loan_intent**: The purpose of the loan.\n",
    "- **Loan_grade**: The assigned credit quality grade.\n",
    "- **Loan_amnt**:Total amount of loan applied for.\n",
    "- **Loan_int_rate**: The interest rate offered on the associated loan.\n",
    "- **Loan_percent_income**: Loan amount as a percentage of income.\n",
    "- **cb_person_defaul_on_file**: Historical default of the individual as per multiple records e.g credit bureau records (Example being Metropol in Kenya).\n",
    "- **cb_person_cred_hist_length**: The length of credit history of the individual in years.\n",
    "- **loan_status**: This is the target variable indicating loan risk i.e 0 being low risk and 1 being high risk\n",
    "\n",
    "This historical record of loan applicants thats has behavioural, financial habits and creditworthiness includes both institutional risk metrics and personal attributes which will help in identification of patterns associated with loan default. Morever the insights are fundametal for building predictive models that will support responsible lending and ultimately reduce finacial risk."
   ]
  },
  {
   "cell_type": "code",
   "execution_count": null,
   "id": "aa25fe4d",
   "metadata": {},
   "outputs": [],
   "source": [
    "#import necessary libraries\n",
    "import pandas as pd\n",
    "from sklearn.linear_model import LogisticRegression\n",
    "from sklearn.linear_model import LinearRegression, Ridge, Lasso\n",
    "from sklearn.preprocessing import StandardScaler\n",
    "from sklearn.preprocessing import PolynomialFeatures\n",
    "from sklearn.model_selection import train_test_split\n",
    "from sklearn.model_selection import cross_val_score\n",
    "from sklearn.datasets import make_regression\n",
    "from sklearn.datasets import load_iris\n",
    "from sklearn.metrics import mean_squared_error\n",
    "import matplotlib.pyplot as plt\n",
    "import statsmodels.api as sm\n",
    "import numpy as np"
   ]
  },
  {
   "cell_type": "code",
   "execution_count": 2,
   "id": "ee61e66c",
   "metadata": {},
   "outputs": [
    {
     "name": "stdout",
     "output_type": "stream",
     "text": [
      "<class 'pandas.core.frame.DataFrame'>\n",
      "RangeIndex: 32581 entries, 0 to 32580\n",
      "Data columns (total 12 columns):\n",
      " #   Column                      Non-Null Count  Dtype  \n",
      "---  ------                      --------------  -----  \n",
      " 0   person_age                  32581 non-null  int64  \n",
      " 1   person_income               32581 non-null  int64  \n",
      " 2   person_home_ownership       32581 non-null  object \n",
      " 3   person_emp_length           31686 non-null  float64\n",
      " 4   loan_intent                 32581 non-null  object \n",
      " 5   loan_grade                  32581 non-null  object \n",
      " 6   loan_amnt                   32581 non-null  int64  \n",
      " 7   loan_int_rate               29465 non-null  float64\n",
      " 8   loan_status                 32581 non-null  int64  \n",
      " 9   loan_percent_income         32581 non-null  float64\n",
      " 10  cb_person_default_on_file   32581 non-null  object \n",
      " 11  cb_person_cred_hist_length  32581 non-null  int64  \n",
      "dtypes: float64(3), int64(5), object(4)\n",
      "memory usage: 3.0+ MB\n"
     ]
    },
    {
     "data": {
      "text/plain": [
       "person_age                       0\n",
       "person_income                    0\n",
       "person_home_ownership            0\n",
       "person_emp_length              895\n",
       "loan_intent                      0\n",
       "loan_grade                       0\n",
       "loan_amnt                        0\n",
       "loan_int_rate                 3116\n",
       "loan_status                      0\n",
       "loan_percent_income              0\n",
       "cb_person_default_on_file        0\n",
       "cb_person_cred_hist_length       0\n",
       "dtype: int64"
      ]
     },
     "execution_count": 2,
     "metadata": {},
     "output_type": "execute_result"
    }
   ],
   "source": [
    "#load the dataset\n",
    "df = pd.read_csv('credit_risk_dataset.csv')\n",
    "df.head()\n",
    "df.info()\n",
    "df.describe()\n",
    "df.isnull().sum()"
   ]
  },
  {
   "cell_type": "markdown",
   "id": "d13feb0f",
   "metadata": {},
   "source": [
    "**3. Exploratory Data Analysis (EDA)**\n",
    "\n",
    "Inspect data shape, types, and missing values.\n",
    "\n",
    "Visualize feature distributions and relationships.\n",
    "\n",
    "Analyze the target variable (e.g., loan_status)."
   ]
  },
  {
   "cell_type": "code",
   "execution_count": 3,
   "id": "3be8561d",
   "metadata": {},
   "outputs": [
    {
     "name": "stdout",
     "output_type": "stream",
     "text": [
      "0    25473\n",
      "1     7108\n",
      "Name: loan_status, dtype: int64\n"
     ]
    }
   ],
   "source": [
    "print(df['loan_status'].value_counts())"
   ]
  }
 ],
 "metadata": {
  "kernelspec": {
   "display_name": "learn-env",
   "language": "python",
   "name": "python3"
  },
  "language_info": {
   "codemirror_mode": {
    "name": "ipython",
    "version": 3
   },
   "file_extension": ".py",
   "mimetype": "text/x-python",
   "name": "python",
   "nbconvert_exporter": "python",
   "pygments_lexer": "ipython3",
   "version": "3.8.5"
  }
 },
 "nbformat": 4,
 "nbformat_minor": 5
}
